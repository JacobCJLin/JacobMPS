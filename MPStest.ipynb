{
 "cells": [
  {
   "cell_type": "code",
   "execution_count": 2,
   "metadata": {},
   "outputs": [
    {
     "name": "stderr",
     "output_type": "stream",
     "text": [
      "WARNING: using JacobMPS.normalizeMPS! in module Main conflicts with an existing identifier.\n"
     ]
    }
   ],
   "source": [
    "using JacobMPS"
   ]
  },
  {
   "cell_type": "code",
   "execution_count": 26,
   "metadata": {},
   "outputs": [],
   "source": [
    "σz = Float64[1 0; 0 -1];\n",
    "OpA=σz;\n",
    "\n",
    "L=16\n",
    "#initial MPO for evolution \n",
    "NN = [zeros(Complex{Float64},1,2,2,1) for i=1:L];\n",
    " for i=1:L\n",
    "        NN[i][1,1,1,1] = 1.0/sqrt(2);\n",
    "        NN[i][1,2,2,1] = 1.0/sqrt(2);\n",
    "    NN[i][1,1,2,1] = 0.0;\n",
    "    NN[i][1,2,1,1] = 0.0;    \n",
    " end\n",
    "MPOA=TMPS(copy(NN),3);\n",
    "    MPOA.A[3][1,:,:,1]=OpA/sqrt(2)*2;\n",
    "\n"
   ]
  },
  {
   "cell_type": "code",
   "execution_count": 20,
   "metadata": {},
   "outputs": [
    {
     "data": {
      "text/plain": [
       "0.9999999999999999"
      ]
     },
     "execution_count": 20,
     "metadata": {},
     "output_type": "execute_result"
    }
   ],
   "source": [
    "norm(MPOA)"
   ]
  },
  {
   "cell_type": "code",
   "execution_count": 28,
   "metadata": {},
   "outputs": [
    {
     "data": {
      "text/plain": [
       "3.9999999999999982"
      ]
     },
     "execution_count": 28,
     "metadata": {},
     "output_type": "execute_result"
    }
   ],
   "source": [
    "normalizeMPS!(MPOA)"
   ]
  },
  {
   "cell_type": "code",
   "execution_count": 27,
   "metadata": {},
   "outputs": [
    {
     "data": {
      "text/plain": [
       "3.99999999999999 + 0.0im"
      ]
     },
     "execution_count": 27,
     "metadata": {},
     "output_type": "execute_result"
    }
   ],
   "source": [
    "totnormsq(MPOA)"
   ]
  },
  {
   "cell_type": "code",
   "execution_count": 3,
   "metadata": {},
   "outputs": [
    {
     "data": {
      "text/plain": [
       "normalizeMPS! (generic function with 1 method)"
      ]
     },
     "execution_count": 3,
     "metadata": {},
     "output_type": "execute_result"
    }
   ],
   "source": [
    "using TensorOperations\n",
    "function normalizeMPS!(ψ::TMPS)\n",
    "    if ψ.oc==length(ψ.A)\n",
    "        moveto!(ψ,length(ψ.A)-1)\n",
    "    end\n",
    "    oc=ψ.oc\n",
    "    Ai=ψ.A[oc]\n",
    "    Ai1=ψ.A[oc+1]\n",
    "    (lbd,phyd,auxd,mbd)=size(Ai)\n",
    "    (mbd,phyd,auxd,rbd)=size(Ai1)\n",
    "    @tensor AiAi1[lb,phy1,aux1,phy2,aux2,rb]:=Ai[lb,phy1,aux1,md]*Ai1[md,phy2,aux2,rb]\n",
    "    AA=reshape(AiAi1,lbd*phyd*auxd,phyd*auxd*rbd)\n",
    "    #do svd find the schmidt value\n",
    "    (u,d,v) = svd(AA)\n",
    "    mm=mbd;\n",
    "    d = d[1:mm]\n",
    "    U = u[:,1:mm]\n",
    "    V = v[:,1:mm]'\n",
    "    #determine the norm\n",
    "    totnorm=dot(d,d) \n",
    "    d=d/sqrt(totnorm) #normalize the MPS\n",
    "    U = U * diagm(d) #put the OC toleft\n",
    "    #put the matrices back\n",
    "    ψ.A[oc]=reshape(U,lbd,phyd,auxd,mbd)\n",
    "    ψ.A[oc+1]=reshape(V,mbd,phyd,auxd,rbd)\n",
    "    return (totnorm)\n",
    "end\n",
    "\n",
    "\n"
   ]
  },
  {
   "cell_type": "code",
   "execution_count": 12,
   "metadata": {},
   "outputs": [
    {
     "name": "stdout",
     "output_type": "stream",
     "text": [
      "  0.000116 seconds (249 allocations: 11.609 KiB)\n"
     ]
    },
    {
     "data": {
      "text/plain": [
       "0.9999999999999998 + 0.0im"
      ]
     },
     "execution_count": 12,
     "metadata": {},
     "output_type": "execute_result"
    }
   ],
   "source": [
    "@time normsq(MPOA)"
   ]
  },
  {
   "cell_type": "code",
   "execution_count": 14,
   "metadata": {},
   "outputs": [
    {
     "name": "stdout",
     "output_type": "stream",
     "text": [
      "  0.008108 seconds (46.64 k allocations: 2.178 MiB)\n"
     ]
    },
    {
     "data": {
      "text/plain": [
       "0.9999999999999799 + 0.0im"
      ]
     },
     "execution_count": 14,
     "metadata": {},
     "output_type": "execute_result"
    }
   ],
   "source": [
    "@time MPSdot(MPOA,MPOA)"
   ]
  },
  {
   "cell_type": "code",
   "execution_count": null,
   "metadata": {
    "collapsed": true
   },
   "outputs": [],
   "source": []
  }
 ],
 "metadata": {
  "kernelspec": {
   "display_name": "Julia 0.6.1",
   "language": "julia",
   "name": "julia-0.6"
  },
  "language_info": {
   "file_extension": ".jl",
   "mimetype": "application/julia",
   "name": "julia",
   "version": "0.6.1"
  }
 },
 "nbformat": 4,
 "nbformat_minor": 1
}
